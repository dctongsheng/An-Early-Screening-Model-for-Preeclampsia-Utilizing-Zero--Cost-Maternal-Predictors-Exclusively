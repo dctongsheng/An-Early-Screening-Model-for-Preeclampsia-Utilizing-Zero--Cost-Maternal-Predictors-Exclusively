{
 "cells": [
  {
   "cell_type": "code",
   "execution_count": 1,
   "id": "e0e653fb",
   "metadata": {
    "ExecuteTime": {
     "end_time": "2023-08-11T02:35:48.805640Z",
     "start_time": "2023-08-11T02:35:35.621258Z"
    }
   },
   "outputs": [],
   "source": [
    "import pandas as pd\n",
    "import numpy as np\n",
    "import xgboost\n",
    "from sklearn import metrics\n",
    "from sklearn.metrics import confusion_matrix\n",
    "from imblearn.combine import SMOTEENN\n",
    "from sklearn.utils import shuffle\n",
    "from sklearn.model_selection import train_test_split,StratifiedKFold,GridSearchCV\n",
    "from sklearn.metrics import confusion_matrix\n",
    "from sklearn.metrics import accuracy_score, precision_score, recall_score, f1_score, roc_auc_score\n",
    "from sklearn.mixture import GaussianMixture\n",
    "from sklearn.preprocessing import StandardScaler\n",
    "from imblearn.under_sampling import RandomUnderSampler\n",
    "from imblearn.pipeline import make_pipeline\n",
    "import matplotlib.pyplot as plt\n",
    "import seaborn as sns\n",
    "np.set_printoptions(threshold=np.inf)\n",
    "pd.set_option('display.width',None) \n",
    "pd.set_option('display.max_columns', None)\n",
    "plt.rcParams['font.family'] = 'Times New Roman'\n",
    "plt.rcParams['mathtext.fontset'] = 'stix'\n",
    "plt.rcParams['axes.unicode_minus'] = False\n",
    "from sklearn.utils import resample\n",
    "from scipy.optimize import minimize\n",
    "import warnings \n",
    "warnings.filterwarnings ('ignore') \n",
    "import random\n",
    "from sklearn.utils import shuffle\n",
    "from sklearn.metrics import roc_curve\n",
    "from sklearn.metrics import auc as auc_func\n",
    "import scipy.stats as stats\n",
    "from imblearn.under_sampling import RandomUnderSampler\n",
    "from sklearn.utils import shuffle"
   ]
  },
  {
   "cell_type": "code",
   "execution_count": 1,
   "id": "bcf4c6cc",
   "metadata": {
    "ExecuteTime": {
     "end_time": "2023-11-09T07:04:54.909363Z",
     "start_time": "2023-11-09T07:04:54.891386Z"
    }
   },
   "outputs": [],
   "source": [
    "df_train_result=pd.read_csv(\"./PE0602_out3.csv\",index_col=\"一次就诊号\",low_memory=False,encoding=\"utf-8\")\n",
    "print(df_train_result.shape)\n",
    "df_train_result.info()"
   ]
  },
  {
   "cell_type": "code",
   "execution_count": 2,
   "id": "30a7ee13",
   "metadata": {
    "ExecuteTime": {
     "end_time": "2023-11-09T07:05:04.294131Z",
     "start_time": "2023-11-09T07:05:04.280168Z"
    }
   },
   "outputs": [],
   "source": [
    "null_counts = df_train_result.isnull().sum()\n",
    "print(null_counts)"
   ]
  },
  {
   "cell_type": "code",
   "execution_count": 6,
   "id": "d0d8bd3b",
   "metadata": {
    "ExecuteTime": {
     "end_time": "2023-08-11T02:45:57.084214Z",
     "start_time": "2023-08-11T02:45:57.061275Z"
    }
   },
   "outputs": [],
   "source": [
    "import pandas as pd\n",
    "from sklearn.preprocessing import MinMaxScaler, OneHotEncoder\n",
    "from sklearn.compose import ColumnTransformer\n",
    "def preprocess_data(data, numeric_cols, excluded_cols=None):\n",
    "    all_cols = data.columns.tolist()\n",
    "    if excluded_cols:\n",
    "        categorical_cols = [col for col in all_cols if col not in numeric_cols and col not in excluded_cols]\n",
    "    else:\n",
    "        categorical_cols = [col for col in all_cols if col not in numeric_cols]\n",
    "\n",
    "    data = data.reset_index(drop=True)\n",
    "    numeric_data = data[numeric_cols]\n",
    "    categorical_data = data[categorical_cols]\n",
    "    encoder = OneHotEncoder(sparse=False, handle_unknown='ignore')\n",
    "    encoded_data = pd.DataFrame()\n",
    "    feature_names = []\n",
    "    for col in categorical_cols:\n",
    "        unique_values = categorical_data[col].unique()\n",
    "        if len(unique_values) > 2:\n",
    "            encoded_col = pd.DataFrame(encoder.fit_transform(categorical_data[[col]]),\n",
    "                                       columns=[f\"{col}_{category}\" for category in encoder.categories_[0]])\n",
    "            encoded_data = pd.concat([encoded_data, encoded_col], axis=1)\n",
    "        else:\n",
    "            encoded_data = pd.concat([encoded_data, categorical_data[[col]]], axis=1)\n",
    "        feature_names.extend(encoded_data.columns.tolist())\n",
    "    processed_data = pd.concat([data[numeric_cols], encoded_data, data[excluded_cols]], axis=1)\n",
    "    return processed_data"
   ]
  },
  {
   "cell_type": "code",
   "execution_count": 7,
   "id": "f85ac918",
   "metadata": {
    "ExecuteTime": {
     "end_time": "2023-08-11T02:45:58.856662Z",
     "start_time": "2023-08-11T02:45:58.570428Z"
    }
   },
   "outputs": [],
   "source": [
    "numeric_cols = []\n",
    "excluded_cols = ['LABEL', '是否前瞻','孕周','年份','身高', '年龄','BMI','孕','产','初潮年龄','孕前体重','月经周期']\n",
    "df_train_result2 = preprocess_data(df_train_result, numeric_cols, excluded_cols)"
   ]
  },
  {
   "cell_type": "code",
   "execution_count": 3,
   "id": "98b0d060",
   "metadata": {
    "ExecuteTime": {
     "end_time": "2023-11-09T07:05:49.747920Z",
     "start_time": "2023-11-09T07:05:49.736772Z"
    }
   },
   "outputs": [],
   "source": [
    "colnames_concatenated = ' '.join(df_train_result2.columns)\n",
    "print(colnames_concatenated)"
   ]
  },
  {
   "cell_type": "code",
   "execution_count": 4,
   "id": "8fc05e0a",
   "metadata": {
    "ExecuteTime": {
     "end_time": "2023-11-09T07:06:03.189986Z",
     "start_time": "2023-11-09T07:06:03.172474Z"
    }
   },
   "outputs": [],
   "source": [
    "null_counts = df_train_result2.isnull().sum()\n",
    "print(null_counts)"
   ]
  },
  {
   "cell_type": "code",
   "execution_count": 5,
   "id": "1d3034b1",
   "metadata": {
    "ExecuteTime": {
     "end_time": "2023-11-09T07:06:11.176262Z",
     "start_time": "2023-11-09T07:06:11.158311Z"
    }
   },
   "outputs": [],
   "source": [
    "df_train_result_1 = df_train_result2.loc[df_train_result2['是否前瞻'] == 0]\n",
    "df_train_result_1.drop(['是否前瞻','孕周'],axis=1,inplace=True)\n",
    "print(df_train_result_1.shape)"
   ]
  },
  {
   "cell_type": "code",
   "execution_count": 6,
   "id": "261411a9",
   "metadata": {
    "ExecuteTime": {
     "end_time": "2023-11-09T07:06:44.609939Z",
     "start_time": "2023-11-09T07:06:44.597944Z"
    }
   },
   "outputs": [],
   "source": [
    "df_test_result_1 = df_train_result2.loc[df_train_result2['是否前瞻'] == 1]\n",
    "df_test_result_1.drop(['是否前瞻','孕周'],axis=1,inplace=True)\n",
    "df_train_result2['PRETREM_PE'] = 0  # 先默认全部赋值为0\n",
    "df_train_result2['EARLY_PE'] = 0  # 先默认全部赋值为0\n",
    "\n",
    "df_train_result2.loc[(df_train_result2['孕周'] < 37) & (df_train_result2['LABEL'] == 1), 'PRETREM_PE'] = 1\n",
    "df_train_result2.loc[(df_train_result2['孕周'] < 34) & (df_train_result2['LABEL'] == 1), 'EARLY_PE'] = 1\n",
    "\n",
    "df_test_result_2 = df_train_result2.loc[df_train_result2['是否前瞻'] == 1]\n",
    "df_test_result_2.drop(['是否前瞻','孕周','LABEL'],axis=1,inplace=True)\n",
    "print(df_test_result_1.shape)\n",
    "print(df_test_result_2.shape)"
   ]
  },
  {
   "cell_type": "code",
   "execution_count": 12,
   "id": "c2f8631c",
   "metadata": {
    "ExecuteTime": {
     "end_time": "2023-08-11T02:46:05.596498Z",
     "start_time": "2023-08-11T02:46:05.575543Z"
    }
   },
   "outputs": [],
   "source": [
    "y = df_train_result_1['LABEL']\n",
    "X = df_train_result_1.drop(['LABEL'], axis=1)\n",
    "oX_test = df_test_result_1.drop('LABEL', axis=1)\n",
    "oy_test=df_test_result_1['LABEL']\n",
    "oy_test1=df_test_result_2['PRETREM_PE']\n",
    "oy_test2=df_test_result_2['EARLY_PE']"
   ]
  },
  {
   "cell_type": "code",
   "execution_count": null,
   "id": "734dc659",
   "metadata": {},
   "outputs": [],
   "source": [
    "from sklearn.ensemble import RandomForestClassifier\n",
    "from sklearn.model_selection import KFold\n",
    "\n",
    "# Initialize the random forest classifier\n",
    "rf = RandomForestClassifier(random_state=42)\n",
    "\n",
    "kf = KFold(n_splits=5, shuffle=True, random_state=42)\n",
    "importances_df = pd.DataFrame()\n",
    "for i, (train_index, test_index) in enumerate(kf.split(X)):\n",
    "    # Split the data\n",
    "    X_train, X_test = X.iloc[train_index], X.iloc[test_index]\n",
    "    y_train, y_test = y.iloc[train_index], y.iloc[test_index]    \n",
    "    rf.fit(X_train, y_train)    \n",
    "    importances = rf.feature_importances_    \n",
    "    fold_importances_df = pd.DataFrame({\n",
    "        f'Feature': X.columns,\n",
    "        f'Importance Fold {i+1}': importances\n",
    "    })\n",
    "\n",
    "    if importances_df.empty:\n",
    "        importances_df = fold_importances_df\n",
    "    else:\n",
    "        importances_df = pd.merge(importances_df, fold_importances_df, on='Feature')\n",
    "\n",
    "importances_df['Mean Importance'] = importances_df.filter(like='Importance').mean(axis=1)\n",
    "importances_df = importances_df.sort_values(by='Mean Importance', ascending=False)\n",
    "importances_df['Cumulative Importance'] = np.cumsum(importances_df['Mean Importance'])\n",
    "print(importances_df)"
   ]
  },
  {
   "cell_type": "code",
   "execution_count": null,
   "id": "4f843fc3",
   "metadata": {},
   "outputs": [],
   "source": [
    "threshold = 0.85\n",
    "important_features = importances_df[importances_df['Cumulative Importance'] <= threshold]['Feature'].values.tolist()\n",
    "print(important_features)"
   ]
  },
  {
   "cell_type": "code",
   "execution_count": 13,
   "id": "3f98d3d9",
   "metadata": {
    "ExecuteTime": {
     "end_time": "2023-08-11T02:46:07.150691Z",
     "start_time": "2023-08-11T02:46:07.129746Z"
    }
   },
   "outputs": [],
   "source": [
    "important_features=['BMI', '年龄', '身高', '慢性高血压',\n",
    "                    '早孕反应','既往子痫', '孕', '糖尿病',\n",
    "                    '多胎', '月经规律', '既往流产', '疤痕', '死胎',\n",
    "                    '家族高血压', '肾病', '辅助生殖']\n",
    "\n",
    "X=X[important_features]\n",
    "oX_test=oX_test[important_features]"
   ]
  },
  {
   "cell_type": "code",
   "execution_count": 14,
   "id": "982c7fb6",
   "metadata": {
    "ExecuteTime": {
     "end_time": "2023-08-11T02:46:13.917939Z",
     "start_time": "2023-08-11T02:46:13.900985Z"
    }
   },
   "outputs": [
    {
     "data": {
      "text/plain": [
       "(1760, 16)"
      ]
     },
     "execution_count": 14,
     "metadata": {},
     "output_type": "execute_result"
    }
   ],
   "source": [
    "oX_test.shape"
   ]
  },
  {
   "cell_type": "code",
   "execution_count": 16,
   "id": "f4759f78",
   "metadata": {
    "ExecuteTime": {
     "end_time": "2023-08-11T02:46:47.748949Z",
     "start_time": "2023-08-11T02:46:30.133515Z"
    }
   },
   "outputs": [
    {
     "name": "stdout",
     "output_type": "stream",
     "text": [
      "n_components=2: BIC=-15676.806984567458\n",
      "n_components=3: BIC=-42720.46233649928\n",
      "n_components=4: BIC=-49909.66335866315\n",
      "n_components=5: BIC=-51564.31704893525\n",
      "n_components=6: BIC=-56593.23358043929\n",
      "n_components=7: BIC=-67978.98724795559\n",
      "n_components=8: BIC=-68977.27936838832\n",
      "n_components=9: BIC=-47159.3235823987\n",
      "n_components=10: BIC=-64214.33600018466\n",
      "n_components=11: BIC=-70354.09181540518\n",
      "n_components=12: BIC=-60686.85961229724\n",
      "n_components=13: BIC=-63525.277810806976\n",
      "n_components=14: BIC=-77746.61753858456\n",
      "n_components=15: BIC=-87509.97415689129\n",
      "n_components=16: BIC=-78565.3009925828\n",
      "n_components=17: BIC=-79447.7515629926\n",
      "n_components=18: BIC=-80632.02169440422\n",
      "n_components=19: BIC=-82551.9139512586\n",
      "n_components=20: BIC=-77090.43764379542\n",
      "n_components=21: BIC=-77569.60013645198\n",
      "n_components=22: BIC=-76873.3245889741\n",
      "n_components=23: BIC=-71076.45224530264\n",
      "n_components=24: BIC=-69107.64952631589\n",
      "n_components=25: BIC=-82493.84870468797\n",
      "n_components=26: BIC=-53324.30991683515\n",
      "n_components=27: BIC=-61357.65443400023\n",
      "n_components=28: BIC=-78725.91409884975\n",
      "n_components=29: BIC=-61238.947624523295\n",
      "n_components=30: BIC=-60645.27225137391\n",
      "n_components=31: BIC=-61372.14813147524\n",
      "n_components=32: BIC=-66267.1154644525\n",
      "n_components=33: BIC=-79851.85733757514\n",
      "n_components=34: BIC=-76980.21328199269\n",
      "n_components=35: BIC=-68199.29808482513\n",
      "n_components=36: BIC=-69153.30375237053\n",
      "n_components=37: BIC=-68666.5972935952\n",
      "Best n_components: 15\n"
     ]
    }
   ],
   "source": [
    "from sklearn.mixture import GaussianMixture\n",
    "bic_scores = []\n",
    "n_components_range = range(2, 38)\n",
    "for n_components in n_components_range:\n",
    "    gmm = GaussianMixture(n_components=n_components, random_state=42)\n",
    "    gmm.fit(X[y == 1])\n",
    "    bic = gmm.bic(X[y == 1])\n",
    "    bic_scores.append(bic)\n",
    "for n_components, bic in zip(n_components_range, bic_scores):\n",
    "    print(f\"n_components={n_components}: BIC={bic}\")\n",
    "best_n_components = n_components_range[bic_scores.index(min(bic_scores))]\n",
    "print(f\"Best n_components: {best_n_components}\")"
   ]
  },
  {
   "cell_type": "markdown",
   "id": "f6cc0c0d",
   "metadata": {},
   "source": [
    "# 采样处理"
   ]
  },
  {
   "cell_type": "code",
   "execution_count": 17,
   "id": "07c40cea",
   "metadata": {
    "ExecuteTime": {
     "end_time": "2023-08-11T02:48:29.488315Z",
     "start_time": "2023-08-11T02:48:29.080366Z"
    }
   },
   "outputs": [],
   "source": [
    "n_components = best_n_components \n",
    "gmm = GaussianMixture(n_components=n_components,random_state=42)\n",
    "gmm.fit(X[y == 1])\n",
    "weights = gmm.weights_\n",
    "covariances = gmm.covariances_\n",
    "means = gmm.means_\n",
    "alpha=1.84\n",
    "inverse_weights = 1 / (weights ** alpha)\n",
    "\n",
    "inverse_weights /= np.sum(inverse_weights)\n",
    "gmm.weights_=inverse_weights\n",
    "num_positive_samples = int(np.sum(y == 1) * (1 - min(inverse_weights)))\n",
    "np.random.seed(42)\n",
    "new_positive_samples = gmm.sample(num_positive_samples)[0]\n",
    "X_positive_resampled = np.vstack((X[y == 1].values, new_positive_samples))\n",
    "y_positive_resampled = np.ones(X_positive_resampled.shape[0])\n",
    "X_resampled1 = np.vstack((X[y == 0].values, X_positive_resampled))\n",
    "y_resampled1 = np.hstack((y[y == 0].values, y_positive_resampled))\n",
    "unique_classes, counts = np.unique(y_resampled1, return_counts=True)\n",
    "count_class_0 = counts[np.where(unique_classes == 0)[0][0]]\n",
    "count_class_1 = counts[np.where(unique_classes == 1)[0][0]]\n",
    "undersample = RandomUnderSampler(sampling_strategy={0: count_class_1*3, 1: count_class_1}, random_state=42)\n",
    "X_resampled, y_resampled = undersample.fit_resample(X_resampled1, y_resampled1)\n",
    "X_resampled,y_resampled = shuffle(X_resampled, y_resampled, random_state=42)\n"
   ]
  },
  {
   "cell_type": "code",
   "execution_count": 15,
   "id": "bbf75103",
   "metadata": {
    "ExecuteTime": {
     "end_time": "2023-08-02T08:16:50.362482Z",
     "start_time": "2023-08-02T08:16:50.341011Z"
    }
   },
   "outputs": [
    {
     "data": {
      "text/plain": [
       "1632"
      ]
     },
     "execution_count": 15,
     "metadata": {},
     "output_type": "execute_result"
    }
   ],
   "source": [
    "num_positive_samples"
   ]
  },
  {
   "cell_type": "code",
   "execution_count": 16,
   "id": "77dc8bb0",
   "metadata": {
    "ExecuteTime": {
     "end_time": "2023-08-02T08:16:53.881261Z",
     "start_time": "2023-08-02T08:16:53.873272Z"
    }
   },
   "outputs": [
    {
     "data": {
      "text/plain": [
       "3267.0"
      ]
     },
     "execution_count": 16,
     "metadata": {},
     "output_type": "execute_result"
    }
   ],
   "source": [
    "y_positive_resampled.sum()"
   ]
  },
  {
   "cell_type": "code",
   "execution_count": 18,
   "id": "6214d0b6",
   "metadata": {
    "ExecuteTime": {
     "end_time": "2023-08-11T02:48:32.346880Z",
     "start_time": "2023-08-11T02:48:32.329923Z"
    }
   },
   "outputs": [
    {
     "name": "stdout",
     "output_type": "stream",
     "text": [
      "\n"
     ]
    }
   ],
   "source": [
    "X_train, X_test, y_train, y_test = train_test_split(X_resampled, y_resampled, test_size=0.3, random_state=42)\n",
    "print(X_train.shape,X_test.shape)"
   ]
  },
  {
   "cell_type": "markdown",
   "id": "0cdc7d06",
   "metadata": {},
   "source": [
    "# 模型训练"
   ]
  },
  {
   "cell_type": "code",
   "execution_count": 18,
   "id": "d3d23ab9",
   "metadata": {
    "ExecuteTime": {
     "end_time": "2023-08-02T08:17:02.443613Z",
     "start_time": "2023-08-02T08:17:00.558509Z"
    }
   },
   "outputs": [],
   "source": [
    "from sklearn.ensemble import RandomForestClassifier\n",
    "from sklearn.ensemble import AdaBoostClassifier,GradientBoostingClassifier\n",
    "from sklearn.ensemble import GradientBoostingClassifier,VotingClassifier\n",
    "from sklearn.ensemble import StackingClassifier\n",
    "from sklearn.naive_bayes import GaussianNB\n",
    "from sklearn.neural_network import MLPClassifier\n",
    "from sklearn import svm\n",
    "from sklearn.linear_model import LogisticRegression,LinearRegression\n",
    "from lightgbm import LGBMClassifier\n",
    "from catboost import CatBoostClassifier\n"
   ]
  },
  {
   "cell_type": "code",
   "execution_count": 19,
   "id": "15681be9",
   "metadata": {
    "ExecuteTime": {
     "end_time": "2023-08-02T08:17:04.496959Z",
     "start_time": "2023-08-02T08:17:04.480994Z"
    }
   },
   "outputs": [],
   "source": [
    "para_lightgbm={'colsample_bytree': 1, 'learning_rate': 0.1, 'min_child_samples': 50, 'n_estimators': 100, 'num_leaves': 127, 'subsample': 0.8,'random_state':42 }\n",
    "para_adaboost={'learning_rate': 0.07, 'n_estimators': 500,'random_state':42 }\n",
    "para_RF={'n_estimators': 100, 'min_samples_split': 2, 'min_samples_leaf': 4, 'max_features': 'auto', 'max_depth': 50,'random_state':42 }\n",
    "para_gbdt={'learning_rate': 0.1, 'max_depth': 9, 'max_features': 9, 'min_samples_leaf': 3, 'min_samples_split': 8, 'subsample': 0.9,'random_state':42 }\n",
    "para_xgboost={'colsample_bytree': 0.8, 'learning_rate': 0.03, 'max_depth': 8, 'min_child_weight': 3, 'n_estimators': 200, 'reg_alpha': 0.1, 'reg_lambda': 0, 'subsample': 0.7,'random_state':42 }\n",
    "para_mlp={'activation': 'logistic', 'alpha': 0.001, 'hidden_layer_sizes': (50,),'random_state':42 }\n",
    "para_bayes={'priors': [0.4, 0.6] }\n",
    "para_logist={'C': 1.0,'random_state':42 }\n",
    "para_svm={\"gamma\":'auto',\"degree\":5,\"C\":0.8,'random_state':42 }"
   ]
  },
  {
   "cell_type": "markdown",
   "id": "ec36dc7e",
   "metadata": {},
   "source": [
    "# 运行十个模型"
   ]
  },
  {
   "cell_type": "code",
   "execution_count": 20,
   "id": "99d24a6a",
   "metadata": {
    "ExecuteTime": {
     "end_time": "2023-08-02T08:18:11.461009Z",
     "start_time": "2023-08-02T08:17:06.477265Z"
    }
   },
   "outputs": [],
   "source": [
    "aclf1=AdaBoostClassifier(**para_adaboost)\n",
    "aclf2=RandomForestClassifier(**para_RF)\n",
    "aclf3=MLPClassifier(**para_mlp)\n",
    "aclf4=GradientBoostingClassifier(**para_gbdt)\n",
    "aclf5=GaussianNB(**para_bayes)\n",
    "aclf6=xgboost.XGBClassifier(**para_xgboost)\n",
    "aclf7=LogisticRegression(**para_logist)\n",
    "aclf8=svm.SVC(**para_svm,probability = True)\n",
    "aclf9=CatBoostClassifier(verbose=0,random_seed=42)\n",
    "aclf10=LGBMClassifier(**para_lightgbm )\n",
    "\n",
    "taclf1=aclf1.fit(X_train, y_train)\n",
    "taclf2=aclf2.fit(X_train, y_train)\n",
    "taclf3=aclf3.fit(X_train, y_train)\n",
    "taclf4=aclf4.fit(X_train, y_train)\n",
    "taclf5=aclf5.fit(X_train, y_train)\n",
    "taclf6=aclf6.fit(X_train, y_train)\n",
    "taclf7=aclf7.fit(X_train, y_train)\n",
    "taclf8=aclf8.fit(X_train, y_train)\n",
    "taclf9=aclf9.fit(X_train, y_train)\n",
    "taclf10=aclf10.fit(X_train, y_train)"
   ]
  },
  {
   "cell_type": "code",
   "execution_count": 21,
   "id": "3a4d7695",
   "metadata": {
    "ExecuteTime": {
     "end_time": "2023-08-02T08:19:43.929260Z",
     "start_time": "2023-08-02T08:19:43.918289Z"
    }
   },
   "outputs": [],
   "source": [
    "def get_tpr_at_fpr(y_true, y_scores, fpr_threshold):\n",
    "    fpr, tpr, thresholds = roc_curve(y_true, y_scores)\n",
    "    idx = np.argmin(np.abs(fpr - fpr_threshold))  \n",
    "    return tpr[idx]  "
   ]
  },
  {
   "cell_type": "code",
   "execution_count": 7,
   "id": "84242330",
   "metadata": {
    "ExecuteTime": {
     "end_time": "2023-11-09T07:08:25.785182Z",
     "start_time": "2023-11-09T07:08:25.772214Z"
    }
   },
   "outputs": [],
   "source": [
    "models = [taclf1, taclf2, taclf3, taclf4, taclf5, taclf6, taclf7, taclf8, taclf9, taclf10]\n",
    "predictions_test = np.array([model.predict_proba(X_test) for model in models])\n",
    "accs = []\n",
    "precs = []\n",
    "npvs = []\n",
    "recs = []\n",
    "specs = []\n",
    "f1s = []\n",
    "aucs = []\n",
    "DR90s = []\n",
    "DR95s = []\n",
    "for i, model in enumerate(models):\n",
    "    p_predict = model.predict(X_test)\n",
    "    p_predict_proba = predictions_test[i]\n",
    "    \n",
    "    acc = accuracy_score(y_test, p_predict)\n",
    "    prec = precision_score(y_test, p_predict, pos_label=1)\n",
    "    npv = precision_score(y_test, p_predict, pos_label=0)\n",
    "    rec = recall_score(y_test, p_predict, pos_label=1)\n",
    "    spec = recall_score(y_test, p_predict, pos_label=0)\n",
    "    f1 = f1_score(y_test, p_predict, pos_label=1)\n",
    "    auc = roc_auc_score(y_test, p_predict_proba[:, 1])\n",
    "    DR90=get_tpr_at_fpr(y_test,p_predict_proba[:, 1],0.1)\n",
    "    DR95=get_tpr_at_fpr(y_test,p_predict_proba[:, 1],0.05)\n",
    "    accs.append(acc)\n",
    "    precs.append(prec)\n",
    "    npvs.append(npv)\n",
    "    recs.append(rec)\n",
    "    specs.append(spec)\n",
    "    f1s.append(f1)\n",
    "    aucs.append(auc)\n",
    "    DR90s.append(DR90)\n",
    "    DR95s.append(DR95)  \n",
    "    \n",
    "    print(f\"内部测试集 Model {i + 1}:  Accuracy: {acc:.4f}, Precision: {prec:.4f}, NPV: {npv:.4f}, Recall: {rec:.4f}, Specificity: {spec:.4f}, F1 score: {f1:.4f}, AUC: {auc:.4f},DR90: {DR90:.4f}, DR95: {DR95:.4f}\")\n",
    "\n",
    "predictions_test = np.array([model.predict_proba(oX_test) for model in models])\n",
    "\n",
    "\n",
    "accs = []\n",
    "precs = []\n",
    "npvs = []\n",
    "recs = []\n",
    "specs = []\n",
    "f1s = []\n",
    "aucs = []\n",
    "DR90s = []\n",
    "DR95s = []\n",
    "\n",
    "for i, model in enumerate(models):\n",
    "    p_predict = model.predict(oX_test)\n",
    "    p_predict_proba = predictions_test[i]    \n",
    "    acc = accuracy_score(oy_test, p_predict)\n",
    "    prec = precision_score(oy_test, p_predict, pos_label=1)\n",
    "    npv = precision_score(oy_test, p_predict, pos_label=0)\n",
    "    rec = recall_score(oy_test, p_predict, pos_label=1)\n",
    "    spec = recall_score(oy_test, p_predict, pos_label=0)\n",
    "    f1 = f1_score(oy_test, p_predict, pos_label=1)\n",
    "    auc = roc_auc_score(oy_test, p_predict_proba[:, 1])\n",
    "    DR90=get_tpr_at_fpr(oy_test,p_predict_proba[:, 1],0.1)\n",
    "    DR95=get_tpr_at_fpr(oy_test,p_predict_proba[:, 1],0.05)\n",
    "    accs.append(acc)\n",
    "    precs.append(prec)\n",
    "    npvs.append(npv)\n",
    "    recs.append(rec)\n",
    "    specs.append(spec)\n",
    "    f1s.append(f1)\n",
    "    aucs.append(auc)\n",
    "    DR90s.append(DR90)\n",
    "    DR95s.append(DR95)    \n",
    "    print(f\"外部测试集 Model {i + 1}:  Accuracy: {acc:.4f}, Precision: {prec:.4f}, NPV: {npv:.4f}, Recall: {rec:.4f}, Specificity: {spec:.4f}, F1 score: {f1:.4f}, AUC: {auc:.4f},DR90: {DR90:.4f}, DR95: {DR95:.4f}\")\n",
    "\n",
    "predictions_test = np.array([model.predict_proba(oX_test) for model in models])\n",
    "\n",
    "\n",
    "accs = []\n",
    "precs = []\n",
    "npvs = []\n",
    "recs = []\n",
    "specs = []\n",
    "f1s = []\n",
    "aucs = []\n",
    "DR90s = []\n",
    "DR95s = []\n",
    "\n",
    "for i, model in enumerate(models):\n",
    "    p_predict = model.predict(oX_test)\n",
    "    p_predict_proba = predictions_test[i]    \n",
    "    acc = accuracy_score(oy_test1, p_predict)\n",
    "    prec = precision_score(oy_test1, p_predict, pos_label=1)\n",
    "    npv = precision_score(oy_test1, p_predict, pos_label=0)\n",
    "    rec = recall_score(oy_test1, p_predict, pos_label=1)\n",
    "    spec = recall_score(oy_test1, p_predict, pos_label=0)\n",
    "    f1 = f1_score(oy_test1, p_predict, pos_label=1)\n",
    "    auc = roc_auc_score(oy_test1, p_predict_proba[:, 1])\n",
    "    DR90=get_tpr_at_fpr(oy_test1,p_predict_proba[:, 1],0.1)\n",
    "    DR95=get_tpr_at_fpr(oy_test1,p_predict_proba[:, 1],0.05)\n",
    "    # 添加评估指标到相应的列表中\n",
    "    accs.append(acc)\n",
    "    precs.append(prec)\n",
    "    npvs.append(npv)\n",
    "    recs.append(rec)\n",
    "    specs.append(spec)\n",
    "    f1s.append(f1)\n",
    "    aucs.append(auc)\n",
    "    DR90s.append(DR90)\n",
    "    DR95s.append(DR95)    \n",
    "    print(f\"外部测试集preterm Model {i + 1}:  Accuracy: {acc:.4f}, Precision: {prec:.4f}, NPV: {npv:.4f}, Recall: {rec:.4f}, Specificity: {spec:.4f}, F1 score: {f1:.4f}, AUC: {auc:.4f},DR90: {DR90:.4f}, DR95: {DR95:.4f}\")\n",
    "\n",
    "predictions_test = np.array([model.predict_proba(oX_test) for model in models])\n",
    "\n",
    "\n",
    "accs = []\n",
    "precs = []\n",
    "npvs = []\n",
    "recs = []\n",
    "specs = []\n",
    "f1s = []\n",
    "aucs = []\n",
    "DR90s = []\n",
    "DR95s = []\n",
    "\n",
    "for i, model in enumerate(models):\n",
    "    p_predict = model.predict(oX_test)\n",
    "    p_predict_proba = predictions_test[i]    \n",
    "    acc = accuracy_score(oy_test2, p_predict)\n",
    "    prec = precision_score(oy_test2, p_predict, pos_label=1)\n",
    "    npv = precision_score(oy_test2, p_predict, pos_label=0)\n",
    "    rec = recall_score(oy_test2, p_predict, pos_label=1)\n",
    "    spec = recall_score(oy_test2, p_predict, pos_label=0)\n",
    "    f1 = f1_score(oy_test2, p_predict, pos_label=1)\n",
    "    auc = roc_auc_score(oy_test2, p_predict_proba[:, 1])\n",
    "    DR90=get_tpr_at_fpr(oy_test2,p_predict_proba[:, 1],0.1)\n",
    "    DR95=get_tpr_at_fpr(oy_test2,p_predict_proba[:, 1],0.05)\n",
    "    accs.append(acc)\n",
    "    precs.append(prec)\n",
    "    npvs.append(npv)\n",
    "    recs.append(rec)\n",
    "    specs.append(spec)\n",
    "    f1s.append(f1)\n",
    "    aucs.append(auc)\n",
    "    DR90s.append(DR90)\n",
    "    DR95s.append(DR95)    \n",
    "    print(f\"外部测试集EARLY-PE Model {i + 1}:  Accuracy: {acc:.4f}, Precision: {prec:.4f}, NPV: {npv:.4f}, Recall: {rec:.4f}, Specificity: {spec:.4f}, F1 score: {f1:.4f}, AUC: {auc:.4f},DR90: {DR90:.4f}, DR95: {DR95:.4f}\")\n",
    "\n"
   ]
  },
  {
   "cell_type": "code",
   "execution_count": 10,
   "id": "6ce817ac",
   "metadata": {
    "ExecuteTime": {
     "end_time": "2023-11-09T07:08:49.842359Z",
     "start_time": "2023-11-09T07:08:49.823334Z"
    }
   },
   "outputs": [],
   "source": [
    "models = [taclf1, taclf2, taclf3, taclf4, taclf5, taclf6, taclf7, taclf8, taclf9, taclf10]\n",
    "\n",
    "predictions_test = np.array([model.predict_proba(X_test) for model in models])\n",
    "accs = []\n",
    "precs = []\n",
    "npvs = []\n",
    "recs = []\n",
    "specs = []\n",
    "f1s = []\n",
    "aucs = []\n",
    "DR90s = []\n",
    "DR95s = []\n",
    "for i, model in enumerate(models):\n",
    "    p_predict = model.predict(X_test)\n",
    "    p_predict_proba = predictions_test[i]\n",
    "    \n",
    "    acc = accuracy_score(y_test, p_predict)\n",
    "    prec = precision_score(y_test, p_predict, pos_label=1)\n",
    "    npv = precision_score(y_test, p_predict, pos_label=0)\n",
    "    rec = recall_score(y_test, p_predict, pos_label=1)\n",
    "    spec = recall_score(y_test, p_predict, pos_label=0)\n",
    "    f1 = f1_score(y_test, p_predict, pos_label=1)\n",
    "    auc = roc_auc_score(y_test, p_predict_proba[:, 1])\n",
    "    DR90=get_tpr_at_fpr(y_test,p_predict_proba[:, 1],0.1)\n",
    "    DR95=get_tpr_at_fpr(y_test,p_predict_proba[:, 1],0.05)\n",
    "    accs.append(acc)\n",
    "    precs.append(prec)\n",
    "    npvs.append(npv)\n",
    "    recs.append(rec)\n",
    "    specs.append(spec)\n",
    "    f1s.append(f1)\n",
    "    aucs.append(auc)\n",
    "    DR90s.append(DR90)\n",
    "    DR95s.append(DR95)  \n",
    "    \n",
    "    print(f\"内部测试集 Model {i + 1}:  Accuracy: {acc:.4f}, Precision: {prec:.4f}, NPV: {npv:.4f}, Recall: {rec:.4f}, Specificity: {spec:.4f}, F1 score: {f1:.4f}, AUC: {auc:.4f},DR90: {DR90:.4f}, DR95: {DR95:.4f}\")\n"
   ]
  },
  {
   "cell_type": "code",
   "execution_count": 24,
   "id": "ff7ab602",
   "metadata": {
    "ExecuteTime": {
     "end_time": "2023-07-08T04:15:52.998091Z",
     "start_time": "2023-07-08T04:15:48.869610Z"
    }
   },
   "outputs": [],
   "source": [
    "predictions_test = np.array([model.predict_proba(X_test) for model in models])"
   ]
  },
  {
   "cell_type": "code",
   "execution_count": 11,
   "id": "5740d62d",
   "metadata": {
    "ExecuteTime": {
     "end_time": "2023-11-09T07:09:08.035488Z",
     "start_time": "2023-11-09T07:09:08.019529Z"
    }
   },
   "outputs": [],
   "source": [
    "import matplotlib.pyplot as plt\n",
    "\n",
    "model_names = ['AdaBoost', 'RF', 'MLP', 'GBDT', 'GNB', 'XGBoost', 'LR', 'SVM', 'CatBoost', 'LightGBM']\n",
    "\n",
    "plt.figure(figsize=(5, 5),dpi=600)\n",
    "plt.rcParams.update({'font.size': 8})\n",
    "\n",
    "for i in range(len(models)):\n",
    "    p_predict_proba = predictions_test[i]\n",
    "    fpr, tpr, _ = roc_curve(y_test, p_predict_proba[:, 1], pos_label=1)\n",
    "    roc_auc = roc_auc_score(y_test, p_predict_proba[:, 1])\n",
    "    tpr_at_fpv_0_1 = tpr[np.argmin(abs(fpr - 0.1))]\n",
    "    if tpr_at_fpv_0_1 > 0.72:\n",
    "        plt.plot(fpr, tpr, lw=2,color='red', label=f'{model_names[i]} (AUC:{roc_auc:.4f}, TPR:{tpr_at_fpv_0_1:.4f})')\n",
    "    else:\n",
    "        plt.plot(fpr, tpr, lw=1, linestyle='--',label=f'{model_names[i]} (AUC:{roc_auc:.4f}, TPR:{tpr_at_fpv_0_1:.4f})')\n",
    "\n",
    "        \n",
    "plt.axvline(x=0.1, color='grey', linestyle='--', linewidth=1, alpha=0.7)\n",
    "\n",
    "plt.xticks([0.1 * i for i in range(21)])  # Set x-axis ticks with increments of 0.1\n",
    "plt.xlim([0.0, 0.2])\n",
    "plt.ylim([0.0, 0.9])\n",
    "plt.xlabel('False Positive Rate')\n",
    "plt.ylabel('True Positive Rate')\n",
    "# plt.title('Receiver Operating Characteristic (ROC)')\n",
    "plt.legend(loc=\"lower right\",fontsize=6, frameon=False)\n",
    "plt.show()\n"
   ]
  },
  {
   "cell_type": "code",
   "execution_count": 12,
   "id": "f8a6db2f",
   "metadata": {
    "ExecuteTime": {
     "end_time": "2023-11-09T07:09:34.541339Z",
     "start_time": "2023-11-09T07:09:34.527343Z"
    }
   },
   "outputs": [],
   "source": [
    "n_bootstraps = 100\n",
    "rng_seed = 42  \n",
    "alpha = 0.05\n",
    "import string\n",
    "letters = string.ascii_uppercase[:10] \n",
    "fig, axes = plt.subplots(3, 4, figsize=(16, 11), dpi=600)\n",
    "axes = axes.ravel()\n",
    "\n",
    "model_labels = ['AdaBoost', 'RF', 'MLP', 'GBDT', 'GNB', 'XGBoost', 'LR', 'SVM', 'CatBoost', 'LightGBM']\n",
    "predictions_test = np.array([model.predict_proba(X_test) for model in models])\n",
    "\n",
    "\n",
    "for i, (model, ax, label) in enumerate(zip(models, axes[:10], model_labels)):\n",
    "    p_predict_proba = predictions_test[i]\n",
    "    fpr, tpr, _ = roc_curve(y_test, p_predict_proba[:, 1])\n",
    "    roc_auc = auc_func(fpr, tpr)\n",
    "\n",
    "    ax.plot(fpr, tpr, lw=2, label=f' {label} (AUC :{roc_auc:.4f})')\n",
    "    \n",
    "    # Bootstrap CI\n",
    "    tprs = []\n",
    "    aucs = []\n",
    "    base_fpr = np.linspace(0, 1, 101)\n",
    "    np.random.seed(rng_seed)\n",
    "\n",
    "    for j in range(n_bootstraps):\n",
    "        y_test_bootstrap = resample(y_test, replace=True, n_samples=len(y_test), random_state=j)\n",
    "        p_predict_proba_bootstrap = resample(p_predict_proba, replace=True, n_samples=len(p_predict_proba), random_state=j)\n",
    "        \n",
    "        if len(np.unique(y_test_bootstrap)) == 2:\n",
    "            fpr_bs, tpr_bs, _ = roc_curve(y_test_bootstrap, p_predict_proba_bootstrap[:, 1])\n",
    "            tpr_bs_interp = np.interp(base_fpr, fpr_bs, tpr_bs)\n",
    "            tpr_bs_interp[0] = 0.0\n",
    "            tprs.append(tpr_bs_interp)\n",
    "            \n",
    "            aucs.append(auc_func(fpr_bs, tpr_bs))\n",
    "        else:\n",
    "            continue\n",
    "    \n",
    "    tprs = np.array(tprs)\n",
    "    mean_tprs = tprs.mean(axis=0)\n",
    "    std_tprs = tprs.std(axis=0)\n",
    "    \n",
    "    # Computing the lower and upper bound of the 95% confidence interval\n",
    "    tprs_upper = np.minimum(mean_tprs + 1.96 * std_tprs, 1)\n",
    "    tprs_lower = mean_tprs - 1.96 * std_tprs\n",
    "    \n",
    "    aucs = np.array(aucs)\n",
    "    lower_auc = np.percentile(aucs, alpha / 2 * 100)\n",
    "    upper_auc = np.percentile(aucs, (1 - alpha / 2) * 100)\n",
    "\n",
    "    ax.fill_between(base_fpr, tprs_lower, tprs_upper, color='grey', alpha=0.2,\n",
    "                     label=r'95% CI: [{:.2f}-{:.2f}]'.format(lower_auc, upper_auc))\n",
    "\n",
    "    ax.plot([0, 1], [0, 1], color='silver', lw=1, linestyle='--')\n",
    "    ax.set_xlim([0.0, 1.0])\n",
    "    ax.set_ylim([0.0, 1.05])\n",
    "    ax.set_xlabel('False Positive Rate', fontsize=12)\n",
    "    ax.set_ylabel('True Positive Rate', fontsize=12)\n",
    "    letter_label = letters[i]\n",
    "    ax.text(0, 1.05, f'({letter_label})   {label} ROC Curve with 95% CI', fontsize=14, transform=ax.transAxes)\n",
    "    ax.legend(loc=\"lower right\",fontsize=12, frameon=False)\n",
    "\n",
    "for ax in axes[10:]:\n",
    "    ax.axis('off')\n",
    "\n",
    "plt.tight_layout()\n"
   ]
  },
  {
   "cell_type": "code",
   "execution_count": null,
   "id": "8bea61d5",
   "metadata": {},
   "outputs": [],
   "source": []
  }
 ],
 "metadata": {
  "kernelspec": {
   "display_name": "Python 3 (ipykernel)",
   "language": "python",
   "name": "python3"
  },
  "language_info": {
   "codemirror_mode": {
    "name": "ipython",
    "version": 3
   },
   "file_extension": ".py",
   "mimetype": "text/x-python",
   "name": "python",
   "nbconvert_exporter": "python",
   "pygments_lexer": "ipython3",
   "version": "3.9.13"
  },
  "toc": {
   "base_numbering": 1,
   "nav_menu": {},
   "number_sections": true,
   "sideBar": true,
   "skip_h1_title": false,
   "title_cell": "Table of Contents",
   "title_sidebar": "Contents",
   "toc_cell": false,
   "toc_position": {},
   "toc_section_display": true,
   "toc_window_display": false
  },
  "varInspector": {
   "cols": {
    "lenName": 16,
    "lenType": 16,
    "lenVar": 40
   },
   "kernels_config": {
    "python": {
     "delete_cmd_postfix": "",
     "delete_cmd_prefix": "del ",
     "library": "var_list.py",
     "varRefreshCmd": "print(var_dic_list())"
    },
    "r": {
     "delete_cmd_postfix": ") ",
     "delete_cmd_prefix": "rm(",
     "library": "var_list.r",
     "varRefreshCmd": "cat(var_dic_list()) "
    }
   },
   "types_to_exclude": [
    "module",
    "function",
    "builtin_function_or_method",
    "instance",
    "_Feature"
   ],
   "window_display": false
  }
 },
 "nbformat": 4,
 "nbformat_minor": 5
}
