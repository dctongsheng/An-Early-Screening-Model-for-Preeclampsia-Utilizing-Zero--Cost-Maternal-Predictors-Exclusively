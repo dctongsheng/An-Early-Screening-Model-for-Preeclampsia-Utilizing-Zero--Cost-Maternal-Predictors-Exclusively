{
 "cells": [
  {
   "cell_type": "code",
   "execution_count": 1,
   "id": "e0e653fb",
   "metadata": {
    "ExecuteTime": {
     "end_time": "2023-09-13T03:22:27.773531Z",
     "start_time": "2023-09-13T03:22:19.718636Z"
    },
    "execution": {
     "iopub.execute_input": "2023-06-25T14:10:12.933102Z",
     "iopub.status.busy": "2023-06-25T14:10:12.932496Z",
     "iopub.status.idle": "2023-06-25T14:10:14.626432Z",
     "shell.execute_reply": "2023-06-25T14:10:14.624756Z",
     "shell.execute_reply.started": "2023-06-25T14:10:12.933048Z"
    }
   },
   "outputs": [],
   "source": [
    "import pandas as pd\n",
    "import numpy as np\n",
    "from imblearn.combine import SMOTEENN\n",
    "from sklearn.utils import shuffle\n",
    "from sklearn.mixture import GaussianMixture\n",
    "from sklearn.preprocessing import StandardScaler\n",
    "from imblearn.under_sampling import RandomUnderSampler\n",
    "import matplotlib.pyplot as plt\n",
    "import seaborn as sns\n",
    "np.set_printoptions(threshold=np.inf)\n",
    "pd.set_option('display.width',None) \n",
    "pd.set_option('display.max_columns', None)\n",
    "plt.rcParams['font.family'] = 'Times New Roman'\n",
    "plt.rcParams['mathtext.fontset'] = 'stix'\n",
    "plt.rcParams['axes.unicode_minus'] = False\n",
    "from sklearn.utils import resample\n",
    "import warnings \n",
    "warnings.filterwarnings ('ignore') \n",
    "import random\n",
    "from sklearn.utils import shuffle"
   ]
  },
  {
   "cell_type": "code",
   "execution_count": 2,
   "id": "bcf4c6cc",
   "metadata": {
    "ExecuteTime": {
     "end_time": "2023-09-13T03:22:30.366076Z",
     "start_time": "2023-09-13T03:22:30.258999Z"
    },
    "execution": {
     "iopub.execute_input": "2023-06-25T14:10:17.330669Z",
     "iopub.status.busy": "2023-06-25T14:10:17.329735Z",
     "iopub.status.idle": "2023-06-25T14:10:17.397817Z",
     "shell.execute_reply": "2023-06-25T14:10:17.396244Z",
     "shell.execute_reply.started": "2023-06-25T14:10:17.330606Z"
    }
   },
   "outputs": [
    {
     "name": "stdout",
     "output_type": "stream",
     "text": [
      "(25709, 17)\n"
     ]
    }
   ],
   "source": [
    "df_train_result=pd.read_csv(\"./forvisualization0622.csv\",low_memory=False,encoding=\"utf-8\")\n",
    "print(df_train_result.shape)"
   ]
  },
  {
   "cell_type": "code",
   "execution_count": 3,
   "id": "c2f8631c",
   "metadata": {
    "ExecuteTime": {
     "end_time": "2023-09-13T03:22:32.787367Z",
     "start_time": "2023-09-13T03:22:32.754433Z"
    },
    "execution": {
     "iopub.execute_input": "2023-06-25T14:10:18.145603Z",
     "iopub.status.busy": "2023-06-25T14:10:18.144983Z",
     "iopub.status.idle": "2023-06-25T14:10:18.157822Z",
     "shell.execute_reply": "2023-06-25T14:10:18.155712Z",
     "shell.execute_reply.started": "2023-06-25T14:10:18.145547Z"
    }
   },
   "outputs": [],
   "source": [
    "X = df_train_result.drop('LABEL', axis=1)\n",
    "y = df_train_result['LABEL']"
   ]
  },
  {
   "cell_type": "code",
   "execution_count": 4,
   "id": "7b3da96c",
   "metadata": {
    "ExecuteTime": {
     "end_time": "2023-09-13T03:22:35.146812Z",
     "start_time": "2023-09-13T03:22:35.123790Z"
    },
    "execution": {
     "iopub.execute_input": "2023-06-25T14:10:18.833504Z",
     "iopub.status.busy": "2023-06-25T14:10:18.832901Z",
     "iopub.status.idle": "2023-06-25T14:10:18.850983Z",
     "shell.execute_reply": "2023-06-25T14:10:18.849247Z",
     "shell.execute_reply.started": "2023-06-25T14:10:18.833450Z"
    }
   },
   "outputs": [
    {
     "name": "stdout",
     "output_type": "stream",
     "text": [
      "<class 'pandas.core.series.Series'>\n",
      "RangeIndex: 25709 entries, 0 to 25708\n",
      "Series name: LABEL\n",
      "Non-Null Count  Dtype\n",
      "--------------  -----\n",
      "25709 non-null  int64\n",
      "dtypes: int64(1)\n",
      "memory usage: 201.0 KB\n"
     ]
    }
   ],
   "source": [
    "y.info()"
   ]
  },
  {
   "cell_type": "code",
   "execution_count": 5,
   "id": "a92b62d6",
   "metadata": {
    "ExecuteTime": {
     "end_time": "2023-06-28T06:48:41.901575Z",
     "start_time": "2023-06-28T06:48:41.875644Z"
    },
    "execution": {
     "iopub.execute_input": "2023-06-25T14:10:20.942660Z",
     "iopub.status.busy": "2023-06-25T14:10:20.941975Z",
     "iopub.status.idle": "2023-06-25T14:10:20.953142Z",
     "shell.execute_reply": "2023-06-25T14:10:20.950828Z",
     "shell.execute_reply.started": "2023-06-25T14:10:20.942604Z"
    }
   },
   "outputs": [],
   "source": [
    "X.columns = ['BMI', 'Age', 'Height','Chronic Hypertension','Morning Sickness',\n",
    "             'History of Preeclampsia','Gravidity','Pre-gestational Diabetes','Multiple Pregnancy',\n",
    "            'Menstrual Regularity','Previous Abortion','Scarred Uterus','Stillbirth','Family History of Hypertension',\n",
    "            'Chronic Renal Disease','Assisted Reproductive Technology']"
   ]
  },
  {
   "cell_type": "code",
   "execution_count": 6,
   "id": "b1416019",
   "metadata": {
    "ExecuteTime": {
     "end_time": "2023-06-28T06:48:41.949449Z",
     "start_time": "2023-06-28T06:48:41.907559Z"
    }
   },
   "outputs": [],
   "source": [
    "from sklearn.neighbors import NearestNeighbors\n",
    "from sklearn.metrics.pairwise import pairwise_distances\n",
    "import numpy as np\n",
    "\n",
    "def calculate_ibi3(k, data, pos_data, neg_data, rr, pos_num, label):\n",
    "    nbrs = NearestNeighbors(n_neighbors=k + 1, algorithm='ball_tree').fit(data)\n",
    "    distances, knn_idx = nbrs.kneighbors(pos_data)\n",
    "\n",
    "    fn = np.zeros(pos_num)\n",
    "    fp = np.zeros(pos_num)\n",
    "    f_prime_p = np.zeros(pos_num)\n",
    "    knn_idx = np.delete(knn_idx, 0, 1)\n",
    "    for i in range(pos_num):\n",
    "        M = np.isin(knn_idx[i], neg_data.index).sum()\n",
    "        if M == 0:\n",
    "            dist = pairwise_distances(pos_data.iloc[i].values.reshape(1, -1), data).reshape(-1)\n",
    "            sort_idx = np.argsort(dist)\n",
    "            nearest_pos_idx = sort_idx[label[sort_idx] == 1][1]\n",
    "            M = np.isin(sort_idx[:nearest_pos_idx], neg_data.index).sum()\n",
    "            k = M + 1\n",
    "        # else:\n",
    "        #     k = k0\n",
    "        fn[i] = M / k\n",
    "        fp[i] = (k - M) / k\n",
    "        f_prime_p[i] = rr * (k - M) / k\n",
    "    ibi3 = f_prime_p / (fn + f_prime_p) - fp / (fn + fp)\n",
    "\n",
    "    return ibi3\n",
    "\n",
    "def imbalance_impact_knn1(data, label, k):\n",
    "    pos_num = int((label == 1).sum())\n",
    "    neg_num = int((1 - label).sum())\n",
    "\n",
    "    pos_data = data.loc[label == 1]\n",
    "    neg_data = data.loc[label == 0]\n",
    "    rr = neg_num / pos_num\n",
    "\n",
    "    ibi3_values = calculate_ibi3(k, data, pos_data, neg_data, rr, pos_num, label)\n",
    "\n",
    "    bi3 = np.mean(ibi3_values)\n",
    "    return ibi3_values, bi3\n"
   ]
  },
  {
   "cell_type": "code",
   "execution_count": 5,
   "id": "f82b4fd7",
   "metadata": {
    "ExecuteTime": {
     "end_time": "2023-11-09T07:00:56.063509Z",
     "start_time": "2023-11-09T07:00:56.053538Z"
    }
   },
   "outputs": [],
   "source": [
    "from sklearn.mixture import GaussianMixture\n",
    "import pandas as pd\n",
    "import numpy as np\n",
    "\n",
    "def calculate_alpha(alpha, X, y):\n",
    "    n_components = 15 \n",
    "    gmm = GaussianMixture(n_components=n_components, random_state=42)\n",
    "    gmm.fit(X[y == 1])\n",
    "    weights = gmm.weights_\n",
    "    covariances = gmm.covariances_\n",
    "    means = gmm.means_\n",
    "    \n",
    "    inverse_weights = 1 / weights**alpha\n",
    "    inverse_weights /= np.sum(inverse_weights)\n",
    "    gmm.weights_=inverse_weights\n",
    "    num_positive_samples = int(np.sum(y == 1) * (1 - min(inverse_weights)))\n",
    "    np.random.seed(42)\n",
    "    new_positive_samples = gmm.sample(num_positive_samples)[0]\n",
    "    X_positive_resampled = np.vstack((X[y == 1].values, new_positive_samples))\n",
    "    y_positive_resampled = np.ones(X_positive_resampled.shape[0])\n",
    "    X_resampled1 = np.vstack((X[y == 0].values, X_positive_resampled))\n",
    "    y_resampled1 = np.hstack((y[y == 0].values, y_positive_resampled))\n",
    "    \n",
    "    X_resampled_df = pd.DataFrame(X_resampled1)\n",
    "    y_resampled_series = pd.Series(y_resampled1)\n",
    "    aRibi3, aRbi3 = imbalance_impact_knn1(X_resampled_df, y_resampled_series,5)\n",
    "    print(alpha,aRbi3)\n",
    "    return alpha, aRbi3\n",
    "alphas = np.arange(0.1, 1.91, 0.01)\n",
    "# 遍历所有的alpha值并计算aRbi3\n",
    "results = [calculate_alpha(alpha, X, y) for alpha in alphas]\n",
    "# 找到aRbi3最小的alpha值\n",
    "min_aRbi3 = min(results, key=lambda x: x[1])\n",
    "print('最低的aRbi3为：', min_aRbi3[1])\n",
    "print('对应的alpha为：', min_aRbi3[0])"
   ]
  },
  {
   "cell_type": "markdown",
   "id": "3f102dc7",
   "metadata": {},
   "source": [
    "#### 计算GMM NUM "
   ]
  },
  {
   "cell_type": "markdown",
   "id": "b06d687c",
   "metadata": {},
   "source": [
    "# 采样处理"
   ]
  },
  {
   "cell_type": "markdown",
   "id": "e1b3befd",
   "metadata": {},
   "source": [
    "## alpha-IW-GMM+RUS"
   ]
  },
  {
   "cell_type": "code",
   "execution_count": 11,
   "id": "4d634189",
   "metadata": {
    "ExecuteTime": {
     "end_time": "2023-06-25T15:16:06.558299Z",
     "start_time": "2023-06-25T15:16:06.128472Z"
    },
    "execution": {
     "iopub.execute_input": "2023-06-25T14:42:34.534431Z",
     "iopub.status.busy": "2023-06-25T14:42:34.533761Z",
     "iopub.status.idle": "2023-06-25T14:42:34.882010Z",
     "shell.execute_reply": "2023-06-25T14:42:34.881193Z",
     "shell.execute_reply.started": "2023-06-25T14:42:34.534370Z"
    }
   },
   "outputs": [],
   "source": [
    "# 数据预处理 - 标准化\n",
    "# Inverse Weighted-GMM\n",
    "n_components = 15 # 设置高斯混合模型的组件数量，可以根据您的数据集进行调整\n",
    "gmm = GaussianMixture(n_components=n_components, random_state=42)\n",
    "gmm.fit(X[y == 1])\n",
    "weights = gmm.weights_\n",
    "covariances = gmm.covariances_\n",
    "means = gmm.means_\n",
    "alpha=1.84\n",
    "inverse_weights = 1 / weights**alpha\n",
    "inverse_weights /= np.sum(inverse_weights)\n",
    "gmm.weights_=inverse_weights\n",
    "# 使用GMM生成新的阳性样本\n",
    "num_positive_samples = int(np.sum(y == 1) * (1 - min(inverse_weights)))\n",
    "np.random.seed(42)\n",
    "new_positive_samples = gmm.sample(num_positive_samples)[0]\n",
    "# 将新的阳性样本添加到原始数据集\n",
    "X_positive_resampled = np.vstack((X[y == 1].values, new_positive_samples))\n",
    "y_positive_resampled = np.ones(X_positive_resampled.shape[0])\n",
    "X_resampled1 = np.vstack((X[y == 0].values, X_positive_resampled))\n",
    "y_resampled1 = np.hstack((y[y == 0].values, y_positive_resampled))\n",
    "\n",
    "from imblearn.under_sampling import RandomUnderSampler\n",
    "\n",
    "# 计算每个类别的样本数量\n",
    "unique_classes, counts = np.unique(y_resampled1, return_counts=True)\n",
    "\n",
    "# 假设类别0是阴性，类别1是阳性\n",
    "count_class_0 = counts[np.where(unique_classes == 0)[0][0]]\n",
    "count_class_1 = counts[np.where(unique_classes == 1)[0][0]]\n",
    "undersample = RandomUnderSampler(sampling_strategy={0: count_class_1*3, 1: count_class_1}, random_state=42)\n",
    "\n",
    "aX_resampled, ay_resampled = undersample.fit_resample(X_resampled1, y_resampled1)\n",
    "aX_resampled, ay_resampled = shuffle(aX_resampled, ay_resampled, random_state=42)\n"
   ]
  },
  {
   "cell_type": "markdown",
   "id": "079a810a",
   "metadata": {},
   "source": [
    "## IW-GMM+RUS"
   ]
  },
  {
   "cell_type": "code",
   "execution_count": 12,
   "id": "bceee05d",
   "metadata": {
    "ExecuteTime": {
     "end_time": "2023-06-25T15:16:10.076437Z",
     "start_time": "2023-06-25T15:16:09.517655Z"
    },
    "execution": {
     "iopub.execute_input": "2023-06-25T14:42:39.519005Z",
     "iopub.status.busy": "2023-06-25T14:42:39.518336Z",
     "iopub.status.idle": "2023-06-25T14:42:39.799160Z",
     "shell.execute_reply": "2023-06-25T14:42:39.798035Z",
     "shell.execute_reply.started": "2023-06-25T14:42:39.518947Z"
    }
   },
   "outputs": [],
   "source": [
    "n_components = 15 \n",
    "gmm = GaussianMixture(n_components=n_components, random_state=42)\n",
    "gmm.fit(X[y == 1])\n",
    "weights = gmm.weights_\n",
    "covariances = gmm.covariances_\n",
    "means = gmm.means_\n",
    "inverse_weights = 1 / weights\n",
    "inverse_weights /= np.sum(inverse_weights)\n",
    "gmm.weights_=inverse_weights\n",
    "num_positive_samples = int(np.sum(y == 1) * (1 - min(inverse_weights)))\n",
    "np.random.seed(42)\n",
    "new_positive_samples = gmm.sample(num_positive_samples)[0]\n",
    "X_positive_resampled = np.vstack((X[y == 1].values, new_positive_samples))\n",
    "y_positive_resampled = np.ones(X_positive_resampled.shape[0])\n",
    "X_resampled1 = np.vstack((X[y == 0].values, X_positive_resampled))\n",
    "y_resampled1 = np.hstack((y[y == 0].values, y_positive_resampled))\n",
    "\n",
    "from imblearn.under_sampling import RandomUnderSampler\n",
    "\n",
    "# 计算每个类别的样本数量\n",
    "unique_classes, counts = np.unique(y_resampled1, return_counts=True)\n",
    "\n",
    "# 假设类别0是阴性，类别1是阳性\n",
    "count_class_0 = counts[np.where(unique_classes == 0)[0][0]]\n",
    "count_class_1 = counts[np.where(unique_classes == 1)[0][0]]\n",
    "undersample = RandomUnderSampler(sampling_strategy={0: count_class_1*3, 1: count_class_1}, random_state=42)\n",
    "\n",
    "X_resampled, y_resampled = undersample.fit_resample(X_resampled1, y_resampled1)"
   ]
  },
  {
   "cell_type": "markdown",
   "id": "f3d13c4d",
   "metadata": {},
   "source": [
    "## SMOTENN"
   ]
  },
  {
   "cell_type": "code",
   "execution_count": 17,
   "id": "24925a98",
   "metadata": {
    "ExecuteTime": {
     "end_time": "2023-06-20T03:38:56.676695Z",
     "start_time": "2023-06-20T03:38:50.236458Z"
    },
    "execution": {
     "iopub.execute_input": "2023-06-25T08:19:33.460763Z",
     "iopub.status.busy": "2023-06-25T08:19:33.460155Z",
     "iopub.status.idle": "2023-06-25T08:19:34.306159Z",
     "shell.execute_reply": "2023-06-25T08:19:34.305254Z",
     "shell.execute_reply.started": "2023-06-25T08:19:33.460709Z"
    }
   },
   "outputs": [],
   "source": [
    "from imblearn.combine import SMOTEENN\n",
    "# SMOTEENN\n",
    "sampling_strategy = 1/3 \n",
    "smoteenn = SMOTEENN(random_state=42,sampling_strategy=sampling_strategy)\n",
    "X_resampled_SMN, y_resampled_SMN = smoteenn.fit_resample(X, y)"
   ]
  },
  {
   "cell_type": "markdown",
   "id": "21590f33",
   "metadata": {},
   "source": [
    "## IW-GMM+SMOTENN"
   ]
  },
  {
   "cell_type": "code",
   "execution_count": 18,
   "id": "67532200",
   "metadata": {
    "ExecuteTime": {
     "end_time": "2023-06-20T04:13:40.795916Z",
     "start_time": "2023-06-20T04:13:34.003888Z"
    },
    "execution": {
     "iopub.execute_input": "2023-06-25T08:19:39.887681Z",
     "iopub.status.busy": "2023-06-25T08:19:39.887008Z",
     "iopub.status.idle": "2023-06-25T08:19:41.258393Z",
     "shell.execute_reply": "2023-06-25T08:19:41.257329Z",
     "shell.execute_reply.started": "2023-06-25T08:19:39.887626Z"
    }
   },
   "outputs": [],
   "source": [
    "n_components = 15 # \n",
    "gmm = GaussianMixture(n_components=n_components, random_state=42)\n",
    "gmm.fit(X[y == 1])\n",
    "weights = gmm.weights_\n",
    "covariances = gmm.covariances_\n",
    "means = gmm.means_\n",
    "inverse_weights = 1 / weights\n",
    "inverse_weights /= np.sum(inverse_weights)\n",
    "gmm.weights_=inverse_weights\n",
    "\n",
    "num_positive_samples = int(np.sum(y == 1) * (1 - min(inverse_weights)))\n",
    "np.random.seed(42)\n",
    "new_positive_samples = gmm.sample(num_positive_samples)[0]\n",
    "X_positive_resampled = np.vstack((X[y == 1].values, new_positive_samples))\n",
    "y_positive_resampled = np.ones(X_positive_resampled.shape[0])\n",
    "X_resampled1 = np.vstack((X[y == 0].values, X_positive_resampled))\n",
    "y_resampled1 = np.hstack((y[y == 0].values, y_positive_resampled))\n",
    "\n",
    "from imblearn.combine import SMOTEENN\n",
    "sampling_strategy = 1/3\n",
    "smoteenn = SMOTEENN(random_state=42,sampling_strategy=sampling_strategy)\n",
    "X_resampled_GSMN, y_resampled_GSMN = smoteenn.fit_resample(X_resampled1, y_resampled1)"
   ]
  },
  {
   "cell_type": "markdown",
   "id": "ec0e2685",
   "metadata": {},
   "source": [
    "## gmm+RUS "
   ]
  },
  {
   "cell_type": "code",
   "execution_count": 13,
   "id": "d9040981",
   "metadata": {
    "ExecuteTime": {
     "end_time": "2023-06-25T15:16:14.938497Z",
     "start_time": "2023-06-25T15:16:14.502075Z"
    },
    "execution": {
     "iopub.execute_input": "2023-06-25T14:42:45.115012Z",
     "iopub.status.busy": "2023-06-25T14:42:45.114267Z",
     "iopub.status.idle": "2023-06-25T14:42:45.449398Z",
     "shell.execute_reply": "2023-06-25T14:42:45.448522Z",
     "shell.execute_reply.started": "2023-06-25T14:42:45.114955Z"
    }
   },
   "outputs": [],
   "source": [
    "# GMM\n",
    "n_components = 15 \n",
    "gmm = GaussianMixture(n_components=n_components, random_state=42)\n",
    "gmm.fit(X[y == 1])\n",
    "weights = gmm.weights_\n",
    "num_positive_samples = int(np.sum(y == 1)* (1 - min(weights)))  \n",
    "np.random.seed(42)\n",
    "new_positive_samples = gmm.sample(num_positive_samples)[0]\n",
    "X_positive_resampled = np.vstack((X[y == 1].values, new_positive_samples))\n",
    "y_positive_resampled = np.ones(X_positive_resampled.shape[0])\n",
    "X_resampled = np.vstack((X[y == 0].values, X_positive_resampled))\n",
    "y_resampled = np.hstack((y[y == 0].values, y_positive_resampled))\n",
    "unique_classes, counts = np.unique(y_resampled, return_counts=True)\n",
    "count_class_0 = counts[np.where(unique_classes == 0)[0][0]]\n",
    "count_class_1 = counts[np.where(unique_classes == 1)[0][0]]\n",
    "undersample = RandomUnderSampler(sampling_strategy={0: count_class_1*3, 1: count_class_1}, random_state=42)\n",
    "X_resampled_rus, y_resampled_rus = undersample.fit_resample(X_resampled, y_resampled)"
   ]
  },
  {
   "cell_type": "markdown",
   "id": "99251bdb",
   "metadata": {},
   "source": [
    "# 计算IBI3"
   ]
  },
  {
   "cell_type": "code",
   "execution_count": 5,
   "id": "eac16f65",
   "metadata": {
    "ExecuteTime": {
     "end_time": "2023-09-13T03:22:53.698854Z",
     "start_time": "2023-09-13T03:22:53.683723Z"
    }
   },
   "outputs": [],
   "source": [
    "from sklearn.neighbors import NearestNeighbors\n",
    "from sklearn.metrics.pairwise import pairwise_distances\n",
    "import numpy as np\n",
    "import multiprocessing as mp\n",
    "\n",
    "def calculate_pm(k, data, pos_data, neg_data, rr, pos_num, label):\n",
    "    nbrs = NearestNeighbors(n_neighbors=k + 1, algorithm='ball_tree').fit(data)\n",
    "    _, knn_idx = nbrs.kneighbors(pos_data)\n",
    "\n",
    "    p2 = np.isin(knn_idx[:, 1:], neg_data.index).sum(axis=1) / k\n",
    "    p2old = p2.copy()\n",
    "    zero_indices = np.where(p2 == 0)[0]\n",
    "    if len(zero_indices) > 0:\n",
    "        dist = pairwise_distances(pos_data.iloc[zero_indices].values, data)\n",
    "        sort_idx = np.argsort(dist, axis=1)\n",
    "        nearest_pos = np.array([idx[label[idx] == 1][1] for idx in sort_idx])\n",
    "        p2[zero_indices] = nearest_pos / (nearest_pos + 1)\n",
    "    p1 = 1 - p2\n",
    "    px = (rr * p1 / (p2 + rr * p1) - p1)\n",
    "    pm = np.mean(px)\n",
    "    return pm\n",
    "\n",
    "def imbalance_impact_knn(data, label):\n",
    "    pos_num = int((label == 1).sum())\n",
    "    neg_num = int((1 - label).sum())\n",
    "\n",
    "    pos_data = data.loc[label == 1]\n",
    "    neg_data = data.loc[label == 0]\n",
    "    rr = neg_num / pos_num\n",
    "\n",
    "    with mp.Pool(mp.cpu_count()) as pool:\n",
    "        pm_values = pool.starmap(calculate_pm, [(k, data, pos_data, neg_data, rr, pos_num, label) for k in range(2, 51)])\n",
    "\n",
    "    derivative = np.diff(pm_values)\n",
    "    best_k = np.argmax(np.abs(derivative[1:])) + 3 \n",
    "\n",
    "    pm_best_k = calculate_pm(best_k, data, pos_data, neg_data, rr, pos_num, label)\n",
    "    return pm_values, pm_best_k, best_k\n"
   ]
  },
  {
   "cell_type": "code",
   "execution_count": null,
   "id": "e4766ae3",
   "metadata": {
    "ExecuteTime": {
     "start_time": "2023-09-13T03:22:55.893Z"
    },
    "execution": {
     "iopub.execute_input": "2023-06-25T14:42:54.846601Z",
     "iopub.status.busy": "2023-06-25T14:42:54.845939Z",
     "iopub.status.idle": "2023-06-25T14:42:59.530965Z",
     "shell.execute_reply": "2023-06-25T14:42:59.530054Z",
     "shell.execute_reply.started": "2023-06-25T14:42:54.846548Z"
    }
   },
   "outputs": [],
   "source": [
    "ibi3, bi3,ork = imbalance_impact_knn(X, y)\n",
    "print(bi3,ork)"
   ]
  },
  {
   "cell_type": "code",
   "execution_count": 16,
   "id": "f8b1e703",
   "metadata": {
    "execution": {
     "iopub.execute_input": "2023-06-25T14:43:05.525297Z",
     "iopub.status.busy": "2023-06-25T14:43:05.524171Z",
     "iopub.status.idle": "2023-06-25T14:45:50.053968Z",
     "shell.execute_reply": "2023-06-25T14:45:50.053164Z",
     "shell.execute_reply.started": "2023-06-25T14:43:05.525229Z"
    }
   },
   "outputs": [
    {
     "name": "stdout",
     "output_type": "stream",
     "text": [
      "0.10121842557896309 3\n"
     ]
    }
   ],
   "source": [
    "X_resampled_df = pd.DataFrame(aX_resampled)\n",
    "y_resampled_series = pd.Series(ay_resampled)\n",
    "aRibi3, aRbi3,ork = imbalance_impact_knn(X_resampled_df, y_resampled_series)\n",
    "print(aRbi3,ork)"
   ]
  },
  {
   "cell_type": "code",
   "execution_count": 18,
   "id": "aac03d90",
   "metadata": {
    "ExecuteTime": {
     "end_time": "2023-06-20T04:24:34.699705Z",
     "start_time": "2023-06-20T04:24:31.778480Z"
    },
    "execution": {
     "iopub.execute_input": "2023-06-25T14:48:31.519536Z",
     "iopub.status.busy": "2023-06-25T14:48:31.518808Z",
     "iopub.status.idle": "2023-06-25T14:48:44.399196Z",
     "shell.execute_reply": "2023-06-25T14:48:44.398518Z",
     "shell.execute_reply.started": "2023-06-25T14:48:31.519480Z"
    }
   },
   "outputs": [
    {
     "name": "stdout",
     "output_type": "stream",
     "text": [
      "0.15581860471365178 3\n"
     ]
    }
   ],
   "source": [
    "# Convert numpy arrays to pandas DataFrame/Series\n",
    "X_resampled_df = pd.DataFrame(X_resampled)\n",
    "y_resampled_series = pd.Series(y_resampled)\n",
    "# 计算 IBI3 值\n",
    "Ribi3, Rbi3 ,ork = imbalance_impact_knn(X_resampled_df, y_resampled_series)\n",
    "print(Rbi3,ork)"
   ]
  },
  {
   "cell_type": "code",
   "execution_count": 36,
   "id": "b1f08cd0",
   "metadata": {
    "ExecuteTime": {
     "end_time": "2023-06-20T04:43:44.513891Z",
     "start_time": "2023-06-20T04:25:00.505413Z"
    }
   },
   "outputs": [
    {
     "name": "stdout",
     "output_type": "stream",
     "text": [
      "0.05987920491522192 5\n"
     ]
    }
   ],
   "source": [
    "# Convert numpy arrays to pandas DataFrame/Series\n",
    "X_resampled_df = pd.DataFrame(X_resampled_SMN)\n",
    "y_resampled_series = pd.Series(y_resampled_SMN)\n",
    "\n",
    "# 计算 IBI3 值\n",
    "sRibi3, sRbi3 ,ork = imbalance_impact_knn(X_resampled_df, y_resampled_series)\n",
    "print(sRbi3,ork)"
   ]
  },
  {
   "cell_type": "code",
   "execution_count": 37,
   "id": "94b5a490",
   "metadata": {
    "ExecuteTime": {
     "end_time": "2023-06-20T04:55:04.136858Z",
     "start_time": "2023-06-20T04:51:25.686894Z"
    }
   },
   "outputs": [
    {
     "name": "stdout",
     "output_type": "stream",
     "text": [
      "0.03616099294273061 3\n"
     ]
    }
   ],
   "source": [
    "X_resampled_df = pd.DataFrame(X_resampled_GSMN)\n",
    "y_resampled_series = pd.Series(y_resampled_GSMN)\n",
    "GSibi3, GSbi3,ork = imbalance_impact_knn(X_resampled_df, y_resampled_series)\n",
    "print(GSbi3,ork)"
   ]
  },
  {
   "cell_type": "code",
   "execution_count": 30,
   "id": "b6e56e92",
   "metadata": {
    "ExecuteTime": {
     "end_time": "2023-06-20T04:57:23.034522Z",
     "start_time": "2023-06-20T04:57:21.236940Z"
    },
    "execution": {
     "iopub.execute_input": "2023-06-25T08:23:51.697945Z",
     "iopub.status.busy": "2023-06-25T08:23:51.696664Z",
     "iopub.status.idle": "2023-06-25T08:24:05.992452Z",
     "shell.execute_reply": "2023-06-25T08:24:05.991700Z",
     "shell.execute_reply.started": "2023-06-25T08:23:51.697881Z"
    }
   },
   "outputs": [
    {
     "name": "stdout",
     "output_type": "stream",
     "text": [
      "0.13481601146817068 3\n"
     ]
    }
   ],
   "source": [
    "X_resampled_df = pd.DataFrame(X_resampled_rus)\n",
    "y_resampled_series = pd.Series(y_resampled_rus)\n",
    "RUSibi3, RUSbi3,ork = imbalance_impact_knn(X_resampled_df, y_resampled_series)\n",
    "print(RUSbi3,ork)"
   ]
  },
  {
   "cell_type": "markdown",
   "id": "688bbdcb",
   "metadata": {},
   "source": [
    "## 显示数值"
   ]
  },
  {
   "cell_type": "markdown",
   "id": "b392146f",
   "metadata": {},
   "source": [
    "## 对比多种采样的效果"
   ]
  },
  {
   "cell_type": "code",
   "execution_count": 1,
   "id": "f993e86e",
   "metadata": {
    "ExecuteTime": {
     "end_time": "2023-11-09T06:58:39.646922Z",
     "start_time": "2023-11-09T06:58:39.639926Z"
    },
    "execution": {
     "iopub.execute_input": "2023-06-25T08:25:38.862393Z",
     "iopub.status.busy": "2023-06-25T08:25:38.861623Z",
     "iopub.status.idle": "2023-06-25T08:25:39.766975Z",
     "shell.execute_reply": "2023-06-25T08:25:39.765246Z",
     "shell.execute_reply.started": "2023-06-25T08:25:38.862333Z"
    }
   },
   "outputs": [],
   "source": [
    "sns.set_style(\"white\")\n",
    "plt.rcParams['font.family'] = 'Times New Roman'\n",
    "plt.rcParams.update({'font.size': 8})\n",
    "fig, ax = plt.subplots(figsize=(5, 4), dpi=600)\n",
    "\n",
    "sns.kdeplot(ibi3, color='grey',linewidth=2, linestyle='-', alpha=0.5, label=f'Original dataset ibi3: {np.mean(ibi3):.4f}({ibi3.var():.2f})')\n",
    "sns.kdeplot(aRibi3, color='red', linewidth=1, linestyle='-', alpha=0.9,label=f'after α-IW-GMM+RUS ibi3: {np.mean(aRibi3):.4f}({aRibi3.var():.2f})')\n",
    "sns.kdeplot(Ribi3, color='green', linewidth=1, linestyle='--', alpha=0.7,label=f'after IW-GMM+RUS ibi3: {np.mean(Ribi3):.4f}({Ribi3.var():.2f})')\n",
    "sns.kdeplot(RUSibi3, color='blue',linewidth=1, linestyle='--', alpha=0.7,  label=f'after GMM+RUS ibi3: {np.mean(RUSibi3):.4f}({RUSibi3.var():.2f})')\n",
    "plt.xlim(0,)  \n",
    "\n",
    "plt.legend()\n",
    "plt.show()"
   ]
  },
  {
   "cell_type": "code",
   "execution_count": 2,
   "id": "03959e54",
   "metadata": {
    "ExecuteTime": {
     "end_time": "2023-11-09T06:58:48.232020Z",
     "start_time": "2023-11-09T06:58:48.219028Z"
    }
   },
   "outputs": [],
   "source": [
    "print(ibi3.var(),aRibi3.var(),Ribi3.var(),RUSibi3.var())"
   ]
  },
  {
   "cell_type": "code",
   "execution_count": 3,
   "id": "cf625fdd",
   "metadata": {
    "ExecuteTime": {
     "end_time": "2023-11-09T06:59:09.887805Z",
     "start_time": "2023-11-09T06:59:09.871847Z"
    }
   },
   "outputs": [],
   "source": [
    "X1=X\n",
    "y1=y\n",
    "X2=aX_resampled\n",
    "X3=X_resampled\n",
    "X4=X_resampled_rus\n",
    "y2=ay_resampled\n",
    "y3=y_resampled\n",
    "y4=y_resampled_rus\n",
    "\n",
    "import numpy as np\n",
    "from sklearn.ensemble import RandomForestClassifier\n",
    "from sklearn.metrics import roc_curve, auc\n",
    "from sklearn.model_selection import StratifiedKFold\n",
    "import matplotlib.pyplot as plt\n",
    "\n",
    "datasets_X = [X1, X2, X3, X4]\n",
    "datasets_y = [y1, y2, y3, y4]\n",
    "\n",
    "plt.figure(figsize=(10, 8),dpi=600)\n",
    "\n",
    "for i, (X, y) in enumerate(zip(datasets_X, datasets_y)):\n",
    "    cv = StratifiedKFold(n_splits=5)\n",
    "\n",
    "    tprs = []\n",
    "    aucs = []\n",
    "    mean_fpr = np.linspace(0, 1, 100)\n",
    "\n",
    "    closest_tpr = []\n",
    "    min_distance = float('inf')\n",
    "\n",
    "    for train, test in cv.split(X, y):\n",
    "        classifier = RandomForestClassifier()\n",
    "        probas_ = classifier.fit(X[train], y[train]).predict_proba(X[test])\n",
    "        fpr, tpr, thresholds = roc_curve(y[test], probas_[:, 1])\n",
    "        roc_auc = auc(fpr, tpr)\n",
    "        tprs.append(np.interp(mean_fpr, fpr, tpr))\n",
    "        tprs[-1][0] = 0.0\n",
    "        aucs.append(roc_auc)\n",
    "\n",
    "    mean_tpr = np.mean(tprs, axis=0)\n",
    "    mean_tpr[-1] = 1.0\n",
    "    mean_auc = auc(mean_fpr, mean_tpr)\n",
    "\n",
    "    for tpr in tprs:\n",
    "        distance = np.linalg.norm(mean_tpr - tpr)\n",
    "        if distance < min_distance:\n",
    "            min_distance = distance\n",
    "            closest_tpr = tpr\n",
    "\n",
    "    plt.plot(mean_fpr, closest_tpr, label='Dataset {0} ROC (area = {1:0.4f})'.format(i+1, mean_auc))\n",
    "\n",
    "plt.xlabel('False Positive Rate')\n",
    "plt.ylabel('True Positive Rate')\n",
    "plt.title('Receiver Operating Characteristic')\n",
    "plt.legend(loc=\"lower right\")\n",
    "plt.show()\n",
    "\n",
    "\n"
   ]
  },
  {
   "cell_type": "code",
   "execution_count": 4,
   "id": "08488b0d",
   "metadata": {
    "ExecuteTime": {
     "end_time": "2023-11-09T06:59:18.455025Z",
     "start_time": "2023-11-09T06:59:18.437562Z"
    },
    "execution": {
     "iopub.execute_input": "2023-06-25T14:56:45.574792Z",
     "iopub.status.busy": "2023-06-25T14:56:45.574090Z",
     "iopub.status.idle": "2023-06-25T14:56:45.975240Z",
     "shell.execute_reply": "2023-06-25T14:56:45.973316Z",
     "shell.execute_reply.started": "2023-06-25T14:56:45.574724Z"
    }
   },
   "outputs": [],
   "source": [
    "import umap"
   ]
  },
  {
   "cell_type": "code",
   "execution_count": null,
   "id": "61526bf0-2160-4895-b7ae-3dc3c137bef2",
   "metadata": {},
   "outputs": [],
   "source": [
    "from sklearn.cluster import KMeans\n",
    "\n",
    "umap = UMAP(n_components=2, random_state=42)\n",
    "X_umap = umap.fit_transform(X)\n",
    "mask1 = X_umap[:, 0] <= 10\n",
    "X_umap_filtered = X_umap[mask1]\n",
    "y_filtered = y[mask1]\n",
    "\n",
    "kmeans = KMeans(n_clusters=2, random_state=42)\n",
    "clusters = kmeans.fit_predict(X_umap_filtered)\n",
    "from matplotlib import cm\n",
    "\n",
    "mask1_pos = mask1[y==1]\n",
    "ibi3_filtered = ibi3[mask1_pos]\n",
    "\n",
    "\n",
    "ibi3_normalized = (ibi3_filtered - np.min(ibi3_filtered)) / (np.max(ibi3_filtered) - np.min(ibi3_filtered))\n",
    "\n",
    "cmap = cm.get_cmap('coolwarm') \n",
    "\n",
    "colors = cmap(ibi3_normalized)\n",
    "\n",
    "plt.figure(figsize=(9,6),dpi=600) \n",
    "\n",
    "sm = cm.ScalarMappable(cmap=cmap)\n",
    "sm.set_array(colors)\n",
    "\n",
    "for cluster in np.unique(clusters):\n",
    "    for label in np.unique(y_filtered):\n",
    "        mask = (clusters == cluster) & (y_filtered == label)\n",
    "        if label == 1:\n",
    "            marker = '+'\n",
    "            markersize = 30  \n",
    "            alpha = 0.8  \n",
    "            mask_pos_samples = mask[y_filtered == 1]  \n",
    "            color = colors[mask_pos_samples]  \n",
    "            plt.scatter(X_umap_filtered[mask, 0], X_umap_filtered[mask, 1], marker=marker, alpha=alpha, s=markersize, color=color)\n",
    "        if label == 0:\n",
    "            if cluster == 0:\n",
    "                marker = '.'\n",
    "                markersize = 2  \n",
    "                alpha = 0.3  \n",
    "                color = 'silver'  \n",
    "            if cluster == 1:\n",
    "                marker = '.'\n",
    "                markersize = 2 \n",
    "                alpha = 0.3  \n",
    "                color = 'silver'\n",
    "            plt.scatter(X_umap_filtered[mask, 0], X_umap_filtered[mask, 1], marker=marker, alpha=alpha, s=markersize, color=color)\n",
    "cbar = plt.colorbar(sm, drawedges=False)\n",
    "cbar.outline.set_visible(False)  \n",
    "plt.xticks([])\n",
    "plt.yticks([])\n",
    "plt.show()\n",
    "\n"
   ]
  },
  {
   "cell_type": "code",
   "execution_count": null,
   "id": "89604f27-00de-4a4f-899e-e6cab2a9f2ec",
   "metadata": {},
   "outputs": [],
   "source": [
    "X_resampled_umap = umap.transform(X_resampled)\n",
    "mask2 = X_resampled_umap[:, 0] <= 10\n",
    "X_resampled_umap_filtered = X_resampled_umap[mask2]\n",
    "y_resampled_filtered = y_resampled[mask2]\n",
    "\n",
    "clusters_resampled = kmeans.predict(X_resampled_umap_filtered)\n",
    "\n",
    "mask2_pos = mask2[y_resampled==1]\n",
    "Ribi3_filtered = Ribi3[mask2_pos]\n",
    "\n",
    "\n",
    "Ribi3_normalized = (Ribi3_filtered - np.min(Ribi3_filtered)) / (np.max(Ribi3_filtered) - np.min(Ribi3_filtered))\n",
    "\n",
    "cmap = cm.get_cmap('coolwarm')  \n",
    "\n",
    "colors = cmap(Ribi3_normalized)\n",
    "\n",
    "plt.figure(figsize=(9,6),dpi=600)  \n",
    "\n",
    "sm = cm.ScalarMappable(cmap=cmap)\n",
    "sm.set_array(colors)\n",
    "\n",
    "\n",
    "for cluster in np.unique(clusters_resampled):\n",
    "    for label in np.unique(y_resampled_filtered):\n",
    "        mask = (clusters_resampled == cluster) & (y_resampled_filtered == label)\n",
    "        if label == 1:\n",
    "            marker = '+'\n",
    "            markersize = 30  \n",
    "            alpha = 0.8  \n",
    "            mask_pos_samples = mask[y_resampled_filtered == 1]  \n",
    "            color = colors[mask_pos_samples]  \n",
    "            plt.scatter(X_resampled_umap_filtered[mask, 0], X_resampled_umap_filtered[mask, 1], marker=marker, alpha=alpha, s=markersize, color=color)\n",
    "        if label == 0:\n",
    "            if cluster == 0:\n",
    "                marker = '.'\n",
    "                markersize = 2  \n",
    "                alpha = 0.3  \n",
    "                color = 'silver'  \n",
    "            if cluster == 1:\n",
    "                marker = '.'\n",
    "                markersize = 2  \n",
    "                alpha = 0.3  \n",
    "                color = 'silver'\n",
    "            plt.scatter(X_resampled_umap_filtered[mask, 0], X_resampled_umap_filtered[mask, 1], marker=marker, alpha=alpha, s=markersize, color=color)\n",
    "cbar = plt.colorbar(sm, drawedges=False)\n",
    "cbar.outline.set_visible(False)  \n",
    "plt.xticks([])\n",
    "plt.yticks([])\n",
    "plt.show()\n"
   ]
  }
 ],
 "metadata": {
  "kernelspec": {
   "display_name": "Python 3 (ipykernel)",
   "language": "python",
   "name": "python3"
  },
  "language_info": {
   "codemirror_mode": {
    "name": "ipython",
    "version": 3
   },
   "file_extension": ".py",
   "mimetype": "text/x-python",
   "name": "python",
   "nbconvert_exporter": "python",
   "pygments_lexer": "ipython3",
   "version": "3.9.13"
  },
  "toc": {
   "base_numbering": 1,
   "nav_menu": {},
   "number_sections": true,
   "sideBar": true,
   "skip_h1_title": false,
   "title_cell": "Table of Contents",
   "title_sidebar": "Contents",
   "toc_cell": false,
   "toc_position": {},
   "toc_section_display": true,
   "toc_window_display": false
  },
  "varInspector": {
   "cols": {
    "lenName": 16,
    "lenType": 16,
    "lenVar": 40
   },
   "kernels_config": {
    "python": {
     "delete_cmd_postfix": "",
     "delete_cmd_prefix": "del ",
     "library": "var_list.py",
     "varRefreshCmd": "print(var_dic_list())"
    },
    "r": {
     "delete_cmd_postfix": ") ",
     "delete_cmd_prefix": "rm(",
     "library": "var_list.r",
     "varRefreshCmd": "cat(var_dic_list()) "
    }
   },
   "types_to_exclude": [
    "module",
    "function",
    "builtin_function_or_method",
    "instance",
    "_Feature"
   ],
   "window_display": false
  }
 },
 "nbformat": 4,
 "nbformat_minor": 5
}
